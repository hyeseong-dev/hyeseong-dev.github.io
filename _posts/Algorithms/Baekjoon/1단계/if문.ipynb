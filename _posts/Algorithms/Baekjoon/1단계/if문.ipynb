{
 "cells": [
  {
   "cell_type": "code",
   "execution_count": 4,
   "metadata": {},
   "outputs": [
    {
     "name": "stdout",
     "output_type": "stream",
     "text": [
      "<\n"
     ]
    }
   ],
   "source": [
    "# 1단계 \n",
    "# 문제번호 1330\n",
    "#  제목: 두 수 비교하기\n",
    "a,b = map(int, input().split())\n",
    "if a<b:\n",
    "    print('<')\n",
    "if a>b:\n",
    "    print('>')\n",
    "if a == b:\n",
    "    print('==')"
   ]
  },
  {
   "cell_type": "code",
   "execution_count": 11,
   "metadata": {},
   "outputs": [
    {
     "name": "stdout",
     "output_type": "stream",
     "text": [
      "D\n"
     ]
    }
   ],
   "source": [
    "# 2단계 \n",
    "# 문제번호 9498\n",
    "# 제목: 시험성적\n",
    "# 문제: 시험 점수를 입력받아 90 ~ 100점은 A, 80 ~ 89점은 B, 70 ~ 79점은 C, 60 ~ 69점은 D, 나머지 점수는 F를 출력하는 프로그램을 작성하시오.\n",
    "# 입력: 첫째 줄에 시험 점수가 주어진다. 시험 점수는 0보다 크거나 같고, 100보다 작거나 같은 정수이다.\n",
    "# 예제 입력 : 100\n",
    "# 예제 출력력 : A\n",
    "\n",
    "score = int(input())\n",
    "if 90<=score<=100:\n",
    "    print('A')\n",
    "elif 80<=score<=89:\n",
    "    print('B')\n",
    "elif 70<=score<=79:\n",
    "    print('C')\n",
    "elif 60<=score<=69:\n",
    "    print('D')\n",
    "else:\n",
    "    print('F')"
   ]
  },
  {
   "cell_type": "markdown",
   "metadata": {},
   "source": [
    "# 4단계 \n",
    "- 문제번호 14681\n",
    "- 제목 : 사분면 고르기\n",
    "- 문제: 흔한 수학 문제 중 하나는 주어진 점이 어느 사분면에 속하는지 알아내는 것이다. 사분면은 아래 그림처럼 1부터 4까지 번호를 갖는다. \"Quadrant n\"은 \"제n사분면\"이라는 뜻이다.   \n",
    "![사분면고르기](https://onlinejudgeimages.s3-ap-northeast-1.amazonaws.com/problem/14681/1.png)\n",
    "예를 들어, 좌표가 (12, 5)인 점 A는 x좌표와 y좌표가 모두 양수이므로 제1사분면에 속한다. 점 B는 x좌표가 음수이고 y좌표가 양수이므로 제2사분면에 속한다.\n",
    "점의 좌표를 입력받아 그 점이 어느 사분면에 속하는지 알아내는 프로그램을 작성하시오. 단, x좌표와 y좌표는 모두 양수나 음수라고 가정한다.\n",
    "- 입력: 첫 줄에는 정수 x가 주어진다. (−1000 ≤ x ≤ 1000; x ≠ 0) 다음 줄에는 정수 y가 주어진다. (−1000 ≤ y ≤ 1000; y ≠ 0)\n",
    "- 출력: 점 (x, y)의 사분면 번호(1, 2, 3, 4 중 하나)를 출력한다.\n",
    "\n"
   ]
  },
  {
   "cell_type": "code",
   "execution_count": 33,
   "metadata": {},
   "outputs": [],
   "source": [
    "class ExceedError(Exception):\n",
    "    pass\n",
    "\n",
    "x,y = map(int,input().split())\n",
    "while True:\n",
    "    if (-1000<= x<=1000 and x!=0 and -1000<= y<=1000 and y!=0):\n",
    "        if 0<x and 0<y:\n",
    "            print(1)\n",
    "        elif x<0 and 0<y:\n",
    "            print(2)\n",
    "        elif x<0 and y<0:\n",
    "            print(3)\n",
    "        else:\n",
    "            print(4)\n",
    "        break\n",
    "    else:\n",
    "        print('범위 재설정 필요')"
   ]
  },
  {
   "cell_type": "markdown",
   "metadata": {},
   "source": [
    "# 5단계\n",
    "\n",
    "- 문제: \n",
    "```\n",
    "상근이는 매일 아침 알람을 듣고 일어난다. 알람을 듣고 바로 일어나면 다행이겠지만, 항상 조금만 더 자려는 마음 때문에 매일 학교를 지각하고 있다.\n",
    "\n",
    "상근이는 모든 방법을 동원해보았지만, 조금만 더 자려는 마음은 그 어떤 것도 없앨 수가 없었다.\n",
    "\n",
    "이런 상근이를 불쌍하게 보던, 창영이는 자신이 사용하는 방법을 추천해 주었다.\n",
    "\n",
    "바로 \"45분 일찍 알람 설정하기\"이다.\n",
    "\n",
    "이 방법은 단순하다. 원래 설정되어 있는 알람을 45분 앞서는 시간으로 바꾸는 것이다. 어차피 알람 소리를 들으면, 알람을 끄고 조금 더 잘 것이기 때문이다. 이 방법을 사용하면, 매일 아침 더 잤다는 기분을 느낄 수 있고, 학교도 지각하지 않게 된다.\n",
    "\n",
    "현재 상근이가 설정한 알람 시각이 주어졌을 때, 창영이의 방법을 사용한다면, 이를 언제로 고쳐야 하는지 구하는 프로그램을 작성하시오.\n",
    "```\n",
    "\n",
    "- 입력 : \n",
    "```\n",
    "첫째 줄에 두 정수 H와 M이 주어진다. (0 ≤ H ≤ 23, 0 ≤ M ≤ 59) 그리고 이것은 현재 상근이가 설정한 놓은 알람 시간 H시 M분을 의미한다.\n",
    "\n",
    "입력 시간은 24시간 표현을 사용한다. 24시간 표현에서 하루의 시작은 0:0(자정)이고, 끝은 23:59(다음날 자정 1분 전)이다. 시간을 나타낼 때, 불필요한 0은 사용하지 않는다.\n",
    "```\n",
    "\n",
    "- 출력: \n",
    "```\n",
    "첫째 줄에 상근이가 창영이의 방법을 사용할 때, 설정해야 하는 알람 시간을 출력한다. (입력과 같은 형태로 출력하면 된다.)\n",
    "```\n",
    "\n"
   ]
  },
  {
   "cell_type": "code",
   "execution_count": 15,
   "metadata": {},
   "outputs": [
    {
     "name": "stdout",
     "output_type": "stream",
     "text": [
      "22 55\n",
      "2\n"
     ]
    }
   ],
   "source": [
    "SET_MINUTE = 45\n",
    "H, M = map(int, input().split())\n",
    "if 0 <= H <= 23 and 0<=M<=59:\n",
    "    if 45<=M:\n",
    "        print(H, M-SET_MINUTE)\n",
    "        print(1)\n",
    "    elif 0<H and M<45:\n",
    "        print(H-1, M+15)\n",
    "        print(2)\n",
    "    elif H in(0,24) and M<45:\n",
    "        H=24\n",
    "        print(H-1, M+15)\n",
    "        print(3)\n",
    "\n",
    "\n",
    "else:\n",
    "    print('잘못 입력했습니다.')\n"
   ]
  }
 ],
 "metadata": {
  "interpreter": {
   "hash": "50e3bdbed45582d67bcc82c4f7ad9f8dd990d17581c1d8cc14167b444936b30e"
  },
  "kernelspec": {
   "display_name": "Python 3.9.6 64-bit ('3.9.6': pyenv)",
   "name": "python3"
  },
  "language_info": {
   "codemirror_mode": {
    "name": "ipython",
    "version": 3
   },
   "file_extension": ".py",
   "mimetype": "text/x-python",
   "name": "python",
   "nbconvert_exporter": "python",
   "pygments_lexer": "ipython3",
   "version": "3.9.6"
  },
  "orig_nbformat": 4
 },
 "nbformat": 4,
 "nbformat_minor": 2
}
