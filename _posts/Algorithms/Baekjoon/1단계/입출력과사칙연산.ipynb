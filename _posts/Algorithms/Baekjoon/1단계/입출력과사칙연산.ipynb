{
 "cells": [
  {
   "cell_type": "markdown",
   "source": [
    "# Hello World\r\n",
    "## 문제\r\n",
    "- Hello World!를 출력하시오."
   ],
   "metadata": {}
  },
  {
   "cell_type": "code",
   "execution_count": null,
   "source": [
    "print('hello world')"
   ],
   "outputs": [],
   "metadata": {}
  },
  {
   "cell_type": "code",
   "execution_count": null,
   "source": [
    "print('hello world')"
   ],
   "outputs": [],
   "metadata": {}
  },
  {
   "cell_type": "code",
   "execution_count": null,
   "source": [
    "!pip install ipykernel"
   ],
   "outputs": [],
   "metadata": {}
  }
 ],
 "metadata": {
  "orig_nbformat": 4,
  "language_info": {
   "name": "python",
   "version": "3.9.6"
  },
  "kernelspec": {
   "name": "python3",
   "display_name": "Python 3.9.6 64-bit ('3.9.6': pyenv)"
  },
  "interpreter": {
   "hash": "844d0cd5e443b67bd1698b1735661e56d0f7a5f57d57b0546cdc8ca9db276da3"
  }
 },
 "nbformat": 4,
 "nbformat_minor": 2
}