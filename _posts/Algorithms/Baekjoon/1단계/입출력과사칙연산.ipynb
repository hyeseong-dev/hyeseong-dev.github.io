{
 "cells": [
  {
   "cell_type": "markdown",
   "metadata": {},
   "source": [
    "# Hello World\n",
    "## 1단계\n",
    "## 2557번 문제\n",
    "- Hello World!를 출력하시오."
   ]
  },
  {
   "cell_type": "code",
   "execution_count": 1,
   "metadata": {},
   "outputs": [
    {
     "name": "stdout",
     "output_type": "stream",
     "text": [
      "hello world\n"
     ]
    }
   ],
   "source": [
    "print('hello world')"
   ]
  },
  {
   "cell_type": "markdown",
   "metadata": {},
   "source": [
    "# We love kriiii\n",
    "## 2단계\n",
    "## 10718번 문제\n",
    "\n",
    "\n",
    "ACM-ICPC 인터넷 예선, Regional, 그리고 World Finals까지 이미 2회씩 진출해버린 kriii는 미련을 버리지 못하고 왠지 모르게 올해에도 파주 World Finals 준비 캠프에 참여했다.\n",
    "\n",
    "대회를 뜰 줄 모르는 지박령 kriii를 위해서 격려의 문구를 출력해주자.\n",
    "\n",
    "\n",
    "- 예제 입력\n",
    "- 예제 출력\n",
    "\n",
    "> 강한친구 대한육군   \n",
    "> 강한친구 대한육군"
   ]
  },
  {
   "cell_type": "code",
   "execution_count": 4,
   "metadata": {},
   "outputs": [
    {
     "name": "stdout",
     "output_type": "stream",
     "text": [
      "강한친구 대한육군\n",
      "강한친구 대한육군\n",
      "\n"
     ]
    }
   ],
   "source": [
    "print('강한친구 대한육군\\n'*2)"
   ]
  },
  {
   "cell_type": "markdown",
   "metadata": {},
   "source": [
    "# 고양이\n",
    "## 3단계\n",
    "## 10171번 문제\n",
    "\n",
    "## 문제\n",
    "아래 예제와 같이 고양이를 출력하시오.\n",
    "\n",
    "\n",
    "- 예제 입력\n",
    ": N/A\n",
    "\n",
    "- 예제 출력\n",
    "\n",
    "```\n",
    "\\    /\\\n",
    " )  ( ')\n",
    "(  /  )\n",
    " \\(__)|\n",
    "```"
   ]
  },
  {
   "cell_type": "code",
   "execution_count": 19,
   "metadata": {},
   "outputs": [
    {
     "name": "stdout",
     "output_type": "stream",
     "text": [
      "\\     /\\\n",
      " )   ( ')\n",
      "(   /  )\n",
      " \\(__)|\n",
      "\n",
      "\\    /\\\n",
      " )  ( ')\n",
      "(  /  )\n",
      " \\(__)|\n"
     ]
    }
   ],
   "source": [
    "print(\"\\\\     /\\\\\")\n",
    "print(\" )   ( ')\")\n",
    "print(\"(   /  )\")\n",
    "print(\" \\(__)|\")\n",
    "print()\n",
    "print(\"\\\\    /\\\\\\n )  ( ')\\n(  /  )\\n \\\\(__)|\") "
   ]
  },
  {
   "cell_type": "markdown",
   "metadata": {},
   "source": [
    "# 개\n",
    "## 4단계\n",
    "## 10172번 문제\n",
    "\n",
    "## 문제\n",
    "아래 예제와 같이 개를 출력하시오.\n",
    "\n",
    "\n",
    "- 예제 입력\n",
    ": N/A\n",
    "\n",
    "- 예제 출력\n",
    "\n",
    "```\n",
    "|\\_/|\n",
    "|q p|   /}\n",
    "( 0 )\"\"\"\\\n",
    "|\"^\"`    |\n",
    "||_/=\\\\__|\n",
    "```"
   ]
  },
  {
   "cell_type": "code",
   "execution_count": 23,
   "metadata": {},
   "outputs": [
    {
     "name": "stdout",
     "output_type": "stream",
     "text": [
      "|\\_/|\n",
      "|q p|   /}\n",
      "( 0 )\"\"\"\\\n",
      "|\"^\"`    |\n",
      "||_/=\\\\__|\n"
     ]
    }
   ],
   "source": [
    "print(\"|\\\\_/|\")\n",
    "print(\"|q p|   /}\")\n",
    "print('( 0 )\"\"\"\\\\')\n",
    "print('|\"^\"`    |')\n",
    "print(\"||_/=\\\\\\\\__|\")"
   ]
  },
  {
   "cell_type": "code",
   "execution_count": 26,
   "metadata": {},
   "outputs": [
    {
     "name": "stdout",
     "output_type": "stream",
     "text": [
      "0.3333333333333333\n",
      "0.8\n"
     ]
    }
   ],
   "source": [
    "# 문제 1008번\n",
    "print(1/3)\n",
    "print(4/5)"
   ]
  }
 ],
 "metadata": {
  "interpreter": {
   "hash": "50e3bdbed45582d67bcc82c4f7ad9f8dd990d17581c1d8cc14167b444936b30e"
  },
  "kernelspec": {
   "display_name": "Python 3.9.6 64-bit ('3.9.6': pyenv)",
   "name": "python3"
  },
  "language_info": {
   "codemirror_mode": {
    "name": "ipython",
    "version": 3
   },
   "file_extension": ".py",
   "mimetype": "text/x-python",
   "name": "python",
   "nbconvert_exporter": "python",
   "pygments_lexer": "ipython3",
   "version": "3.9.6"
  },
  "orig_nbformat": 4
 },
 "nbformat": 4,
 "nbformat_minor": 2
}
