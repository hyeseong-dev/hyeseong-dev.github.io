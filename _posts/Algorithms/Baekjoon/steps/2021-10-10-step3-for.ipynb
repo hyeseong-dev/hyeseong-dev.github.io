{
 "cells": [
  {
   "cell_type": "code",
   "execution_count": 3,
   "metadata": {},
   "outputs": [
    {
     "name": "stdout",
     "output_type": "stream",
     "text": [
      "2\n",
      "4\n",
      "6\n",
      "8\n",
      "10\n"
     ]
    }
   ],
   "source": [
    "# 3단계 \n",
    "# 문제번호 10950\n",
    "# 제목: A+B-3\n",
    "# 문제: 두 정수 A와 B를 입력받은 다음, A+B를 출력하는 프로그램을 작성하시오.\n",
    "# 입력: 첫째 줄에 테스트 케이스의 개수 T가 주어진다. 각 테스트 케이스는 한 줄로 이루어져 있으며, 각 줄에 A와 B가 주어진다. (0 < A, B < 10)\n",
    "# 예제 입력 : \n",
    "\"\"\"\n",
    "5\n",
    "1 1\n",
    "2 3\n",
    "3 4\n",
    "9 8\n",
    "5 2\n",
    "\"\"\"\n",
    "# 예제 출력 : \n",
    "\"\"\"\n",
    "2\n",
    "5\n",
    "7\n",
    "17\n",
    "7\n",
    "\"\"\"\n",
    "\n",
    "\n",
    "STEP = map(int, input())\n",
    "for _ in range(5):\n",
    "    A, B = map(int, input().split())\n",
    "    print(A+B)\n"
   ]
  },
  {
   "cell_type": "code",
   "execution_count": 8,
   "metadata": {},
   "outputs": [
    {
     "name": "stdout",
     "output_type": "stream",
     "text": [
      "6\n"
     ]
    }
   ],
   "source": [
    "### 3단계 \n",
    "### 문제번호 8393\n",
    "### 제목: 합\n",
    "### 문제: n이 주어졌을 때, 1부터 n까지 합을 구하는 프로그램을 작성하시오.\n",
    "### 입력: 첫째 줄에 n (1 ≤ n ≤ 10,000)이 주어진다.\n",
    "### 예제 입력 : \n",
    "\"\"\"\n",
    "3\n",
    "\"\"\"\n",
    "### 예제 출력 : \n",
    "\"\"\"\n",
    "6\n",
    "\"\"\"\n",
    "# a = [i for i in range(1, 4)]\n",
    "# print(a)\n",
    "# print(sum(a))\n",
    "print(sum([i for i in range(1, int(input())+1)]))\n"
   ]
  },
  {
   "cell_type": "code",
   "execution_count": null,
   "metadata": {},
   "outputs": [],
   "source": [
    "### 3단계 \n",
    "### 문제번호 8393\n",
    "### 제목: 합\n",
    "### 문제: n이 주어졌을 때, 1부터 n까지 합을 구하는 프로그램을 작성하시오.\n",
    "### 입력: 첫째 줄에 n (1 ≤ n ≤ 10,000)이 주어진다.\n",
    "### 예제 입력 : \n",
    "\"\"\"\n",
    "3\n",
    "\"\"\"\n",
    "### 예제 출력 : \n",
    "\"\"\"\n",
    "6\n",
    "\"\"\"\n",
    "# a = [i for i in range(1, 4)]\n",
    "# print(a)\n",
    "# print(sum(a))\n",
    "print(sum([i for i in range(1, int(input())+1)]))\n"
   ]
  },
  {
   "cell_type": "code",
   "execution_count": 13,
   "metadata": {},
   "outputs": [
    {
     "ename": "ValueError",
     "evalue": "invalid literal for int() with base 10: ''",
     "output_type": "error",
     "traceback": [
      "\u001b[0;31m---------------------------------------------------------------------------\u001b[0m",
      "\u001b[0;31mValueError\u001b[0m                                Traceback (most recent call last)",
      "\u001b[0;32m/tmp/ipykernel_2016/4179604615.py\u001b[0m in \u001b[0;36m<module>\u001b[0;34m\u001b[0m\n\u001b[1;32m     26\u001b[0m \u001b[0;32mimport\u001b[0m \u001b[0msys\u001b[0m\u001b[0;34m\u001b[0m\u001b[0;34m\u001b[0m\u001b[0m\n\u001b[1;32m     27\u001b[0m \u001b[0;34m\u001b[0m\u001b[0m\n\u001b[0;32m---> 28\u001b[0;31m \u001b[0mrow_number\u001b[0m \u001b[0;34m=\u001b[0m \u001b[0mint\u001b[0m\u001b[0;34m(\u001b[0m\u001b[0msys\u001b[0m\u001b[0;34m.\u001b[0m\u001b[0mstdin\u001b[0m\u001b[0;34m.\u001b[0m\u001b[0mreadline\u001b[0m\u001b[0;34m(\u001b[0m\u001b[0;34m)\u001b[0m\u001b[0;34m)\u001b[0m\u001b[0;34m\u001b[0m\u001b[0;34m\u001b[0m\u001b[0m\n\u001b[0m\u001b[1;32m     29\u001b[0m \u001b[0mprint\u001b[0m\u001b[0;34m(\u001b[0m\u001b[0mrow_number\u001b[0m\u001b[0;34m)\u001b[0m\u001b[0;34m\u001b[0m\u001b[0;34m\u001b[0m\u001b[0m\n\u001b[1;32m     30\u001b[0m \u001b[0;31m# for _ in range(row_number):\u001b[0m\u001b[0;34m\u001b[0m\u001b[0;34m\u001b[0m\u001b[0;34m\u001b[0m\u001b[0m\n",
      "\u001b[0;31mValueError\u001b[0m: invalid literal for int() with base 10: ''"
     ]
    }
   ],
   "source": [
    "### 4 단계 \n",
    "### 문제번호 15552\n",
    "### 제목: 빠른 A+B\n",
    "### 문제: n이 주어졌을 때, 1부터 n까지 합을 구하는 프로그램을 작성하시오.\n",
    "### 입력: 첫 줄에 테스트케이스의 개수 T가 주어진다. T는 최대 1,000,000이다. 다음 T줄에는 각각 두 정수 A와 B가 주어진다. A와 B는 1 이상, 1,000 이하이다.\n",
    "### 출력: 각 테스트케이스마다 A+B를 한 줄에 하나씩 순서대로 출력한다.\n",
    "\n",
    "### 예제 입력 : \n",
    "\"\"\"\n",
    "5\n",
    "1 1\n",
    "12 34\n",
    "5 500\n",
    "40 60\n",
    "1000 1000\n",
    "\"\"\"\n",
    "### 예제 출력 : \n",
    "\"\"\"\n",
    "2\n",
    "46\n",
    "505\n",
    "100\n",
    "2000\n",
    "\"\"\"\n",
    "\n",
    "import sys\n",
    "\n",
    "row_number = int(sys.stdin.readline()) # shell에서 사용 가능/ 주피터에서 사용 불가능\n",
    "\n",
    "for _ in range(row_number):\n",
    "    a,b = map(int,sys.stdin.readline().split())\n",
    "    print(a+b)"
   ]
  },
  {
   "cell_type": "code",
   "execution_count": 21,
   "metadata": {},
   "outputs": [
    {
     "name": "stdout",
     "output_type": "stream",
     "text": [
      "1\n",
      "2\n",
      "3\n",
      "4\n",
      "5\n"
     ]
    }
   ],
   "source": [
    "### 5 단계 \n",
    "### 문제번호 2741\n",
    "### 제목: N찍기\n",
    "### 문제: 자연수 N이 주어졌을 때, 1부터 N까지 한 줄에 하나씩 출력하는 프로그램을 작성하시오.\n",
    "### 입력: 첫째 줄에 100,000보다 작거나 같은 자연수 N이 주어진다.\n",
    "### 출력: 첫째 줄부터 N번째 줄 까지 차례대로 출력한다.\n",
    "\n",
    "### 예제 입력 : \n",
    "\"\"\"\n",
    "5\n",
    "\"\"\"\n",
    "### 예제 출력 : \n",
    "\"\"\"\n",
    "1\n",
    "2\n",
    "3\n",
    "4\n",
    "5\n",
    "\"\"\"\n",
    "\n",
    "import sys\n",
    "\n",
    "# row_number = int(sys.stdin.readline()) \n",
    "i = int(input())\n",
    "\n",
    "for N in range(1, i+1):\n",
    "    print(N)"
   ]
  },
  {
   "cell_type": "code",
   "execution_count": 24,
   "metadata": {},
   "outputs": [
    {
     "name": "stdout",
     "output_type": "stream",
     "text": [
      "5\n",
      "4\n",
      "3\n",
      "2\n",
      "1\n"
     ]
    }
   ],
   "source": [
    "### 6 단계 \n",
    "### 문제번호 2742\n",
    "### 제목: 기찍N\n",
    "### 문제: 자연수 N이 주어졌을 때, 1부터 N까지 한 줄에 하나씩 출력하는 프로그램을 작성하시오.\n",
    "### 입력: 첫째 줄에 100,000보다 작거나 같은 자연수 N이 주어진다.\n",
    "### 출력: 첫째 줄에 100,000보다 작거나 같은 자연수 N이 주어진다.\n",
    "\n",
    "### 예제 입력 : \n",
    "\"\"\"\n",
    "5\n",
    "\"\"\"\n",
    "### 예제 출력 : \n",
    "\"\"\"\n",
    "5\n",
    "4\n",
    "3\n",
    "2\n",
    "1\n",
    "\"\"\"\n",
    "\n",
    "import sys\n",
    "\n",
    "# row_number = int(sys.stdin.readline()) \n",
    "i = int(input())\n",
    "\n",
    "for N in range(i, 0, -1):\n",
    "    print(N)"
   ]
  },
  {
   "cell_type": "code",
   "execution_count": 26,
   "metadata": {},
   "outputs": [
    {
     "name": "stdout",
     "output_type": "stream",
     "text": [
      "Case #1: 2\n",
      "Case #2: 5\n",
      "Case #3: 7\n",
      "Case #4: 17\n",
      "Case #5: 7\n"
     ]
    }
   ],
   "source": [
    "### 7 단계 \n",
    "### 문제번호 11021\n",
    "### 제목: A+B - 7\n",
    "### 문제: 두 정수 A와 B를 입력받은 다음, A+B를 출력하는 프로그램을 작성하시오.\n",
    "### 입력: 첫째 줄에 테스트 케이스의 개수 T가 주어진다. 각 테스트 케이스는 한 줄로 이루어져 있으며, 각 줄에 A와 B가 주어진다. (0 < A, B < 10)\n",
    "### 출력: 각 테스트 케이스마다 \"Case #x: \"를 출력한 다음, A+B를 출력한다. 테스트 케이스 번호는 1부터 시작한다.\n",
    "\n",
    "### 예제 입력 : \n",
    "\"\"\"\n",
    "5\n",
    "1 1\n",
    "2 3\n",
    "3 4\n",
    "9 8\n",
    "5 2\n",
    "\"\"\"\n",
    "### 예제 출력 : \n",
    "\"\"\"\n",
    "\n",
    "예제 출력 1 \n",
    "Case #1: 2\n",
    "Case #2: 5\n",
    "Case #3: 7\n",
    "Case #4: 17\n",
    "Case #5: 7\n",
    "\n",
    "\"\"\"\n",
    "\n",
    "number = int(input())\n",
    "\n",
    "for i in range(1, number+1):\n",
    "    a, b = map(int, input().split())\n",
    "    if 0<a and b<10:\n",
    "        print(f'Case #{i}: {a+b}')\n",
    "    else:\n",
    "        print('조건 범위에 들지 않습니다.')\n",
    "        break\n"
   ]
  },
  {
   "cell_type": "code",
   "execution_count": 27,
   "metadata": {},
   "outputs": [
    {
     "name": "stdout",
     "output_type": "stream",
     "text": [
      "Case #1: 1 + 1= 2\n",
      "Case #2: 2 + 3= 5\n",
      "Case #3: 3 + 4= 7\n",
      "Case #4: 9 + 8= 17\n",
      "Case #5: 5 + 2= 7\n"
     ]
    }
   ],
   "source": [
    "### 8 단계 \n",
    "### 문제번호 11022\n",
    "### 제목: A+B - 8\n",
    "### 문제: 두 정수 A와 B를 입력받은 다음, A+B를 출력하는 프로그램을 작성하시오.\n",
    "### 입력: 첫째 줄에 테스트 케이스의 개수 T가 주어진다. 각 테스트 케이스는 한 줄로 이루어져 있으며, 각 줄에 A와 B가 주어진다. (0 < A, B < 10)\n",
    "### 출력: 각 테스트 케이스마다 \"Case #x: A + B = C\" 형식으로 출력한다. x는 테스트 케이스 번호이고 1부터 시작하며, C는 A+B이다.\n",
    "\n",
    "### 예제 입력 : \n",
    "\"\"\"\n",
    "5\n",
    "1 1\n",
    "2 3\n",
    "3 4\n",
    "9 8\n",
    "5 2\n",
    "\"\"\"\n",
    "### 예제 출력 : \n",
    "\"\"\"\n",
    "\n",
    "Case #1: 1 + 1 = 2\n",
    "Case #2: 2 + 3 = 5\n",
    "Case #3: 3 + 4 = 7\n",
    "Case #4: 9 + 8 = 17\n",
    "Case #5: 5 + 2 = 7\n",
    "\n",
    "\"\"\"\n",
    "\n",
    "number = int(input())\n",
    "\n",
    "for i in range(1, number+1):\n",
    "    a, b = map(int, input().split())\n",
    "    if 0<a and b<10:\n",
    "        print(f'Case #{i}: {a} + {b} = {a+b}')\n",
    "    else:\n",
    "        print('조건 범위에 들지 않습니다.')\n",
    "        break\n"
   ]
  },
  {
   "cell_type": "code",
   "execution_count": 28,
   "metadata": {},
   "outputs": [
    {
     "name": "stdout",
     "output_type": "stream",
     "text": [
      "*\n",
      "**\n",
      "***\n",
      "****\n",
      "*****\n"
     ]
    }
   ],
   "source": [
    "### 9 단계 \n",
    "### 문제번호 2438\n",
    "### 제목: 별 찍기 - 1\n",
    "### 문제: 첫째 줄에는 별 1개, 둘째 줄에는 별 2개, N번째 줄에는 별 N개를 찍는 문제\n",
    "### 입력: 첫째 줄에 N(1 ≤ N ≤ 100)이 주어진다.\n",
    "### 출력: 첫째 줄부터 N번째 줄까지 차례대로 별을 출력한다.\n",
    "\n",
    "### 예제 입력 : \n",
    "\"\"\"\n",
    "5\n",
    "\"\"\"\n",
    "### 예제 출력 : \n",
    "\"\"\"\n",
    "*\n",
    "**\n",
    "***\n",
    "****\n",
    "*****\n",
    "\"\"\"\n",
    "\n",
    "number = int(input())\n",
    "\n",
    "for i in range(1, number+1):\n",
    "    print('*'*i)\n",
    "\n",
    "\n"
   ]
  },
  {
   "cell_type": "code",
   "execution_count": 31,
   "metadata": {},
   "outputs": [
    {
     "name": "stdout",
     "output_type": "stream",
     "text": [
      "    *\n",
      "   **\n",
      "  ***\n",
      " ****\n",
      "*****\n"
     ]
    }
   ],
   "source": [
    "### 10 단계 \n",
    "### 문제번호 2439\n",
    "### 제목: 별 찍기 - 2\n",
    "### 문제: 첫째 줄에는 별 1개, 둘째 줄에는 별 2개, N번째 줄에는 별 N개를 찍는 문제 하지만, 오른쪽을 기준으로 정렬한 별(예제 참고)을 출력하시오.\n",
    "### 입력: 첫째 줄에 N(1 ≤ N ≤ 100)이 주어진다.\n",
    "### 출력: 첫째 줄부터 N번째 줄까지 차례대로 별을 출력한다.\n",
    "\n",
    "### 예제 입력 : \n",
    "\"\"\"\n",
    "5\n",
    "\"\"\"\n",
    "### 예제 출력 : \n",
    "\"\"\"\n",
    "    *\n",
    "   **\n",
    "  ***\n",
    " ****\n",
    "*****\n",
    "\"\"\"\n",
    "\n",
    "number = int(input())\n",
    "\n",
    "for i in range(1, number+1):\n",
    "    print(' '*(number-i)+'*'*i)\n",
    "\n",
    "\n"
   ]
  },
  {
   "cell_type": "code",
   "execution_count": 35,
   "metadata": {},
   "outputs": [
    {
     "name": "stdout",
     "output_type": "stream",
     "text": [
      "[1, 10, 4, 9, 2, 3, 8, 5, 7, 6]\n",
      "1 4 2 3 "
     ]
    }
   ],
   "source": [
    "### 11 단계 \n",
    "### 문제번호 10871\n",
    "### 제목: X보다 작은 수\n",
    "### 문제: 정수 N개로 이루어진 수열 A와 정수 X가 주어진다. 이때, A에서 X보다 작은 수를 모두 출력하는 프로그램을 작성하시오.\n",
    "### 입력: 첫째 줄에 N과 X가 주어진다. (1 ≤ N, X ≤ 10,000) 둘째 줄에 수열 A를 이루는 정수 N개가 주어진다. 주어지는 정수는 모두 1보다 크거나 같고, 10,000보다 작거나 같은 정수이다.\n",
    "### 출력: X보다 작은 수를 입력받은 순서대로 공백으로 구분해 출력한다. X보다 작은 수는 적어도 하나 존재한다.\n",
    "\n",
    "### 예제 입력 : \n",
    "\"\"\"\n",
    "10 5\n",
    "1 10 4 9 2 3 8 5 7 6\n",
    "\"\"\"\n",
    "### 예제 출력 : \n",
    "\"\"\"\n",
    "1 4 2 3\n",
    "\"\"\"\n",
    "\n",
    "N, X = map(int, input().split())\n",
    "# A = [int(input()) for _ in range(N)]\n",
    "A = list(map(int, input().split()))\n",
    "print(A)\n",
    "for i in A:\n",
    "    if i < X:\n",
    "        print(i, end=' ')\n",
    "# for i in range(1, number+1):\n",
    "    # print(' '*(number-i)+'*'*i)\n",
    "\n",
    "\n"
   ]
  }
 ],
 "metadata": {
  "interpreter": {
   "hash": "50e3bdbed45582d67bcc82c4f7ad9f8dd990d17581c1d8cc14167b444936b30e"
  },
  "kernelspec": {
   "display_name": "Python 3.9.6 64-bit ('3.9.6': pyenv)",
   "name": "python3"
  },
  "language_info": {
   "codemirror_mode": {
    "name": "ipython",
    "version": 3
   },
   "file_extension": ".py",
   "mimetype": "text/x-python",
   "name": "python",
   "nbconvert_exporter": "python",
   "pygments_lexer": "ipython3",
   "version": "3.9.6"
  },
  "orig_nbformat": 4
 },
 "nbformat": 4,
 "nbformat_minor": 2
}
