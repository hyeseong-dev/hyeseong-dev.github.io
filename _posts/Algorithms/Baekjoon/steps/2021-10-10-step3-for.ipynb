{
 "cells": [
  {
   "cell_type": "code",
   "execution_count": 1,
   "metadata": {},
   "outputs": [
    {
     "name": "stdout",
     "output_type": "stream",
     "text": [
      "2\n",
      "5\n",
      "7\n",
      "17\n",
      "7\n"
     ]
    }
   ],
   "source": [
    "# 3단계 \n",
    "# 문제번호 10950\n",
    "# 제목: A+B-3\n",
    "# 문제: 두 정수 A와 B를 입력받은 다음, A+B를 출력하는 프로그램을 작성하시오.\n",
    "# 입력: 첫째 줄에 테스트 케이스의 개수 T가 주어진다. 각 테스트 케이스는 한 줄로 이루어져 있으며, 각 줄에 A와 B가 주어진다. (0 < A, B < 10)\n",
    "# 예제 입력 : \n",
    "\"\"\"\n",
    "5\n",
    "1 1\n",
    "2 3\n",
    "3 4\n",
    "9 8\n",
    "5 2\n",
    "\"\"\"\n",
    "# 예제 출력 : \n",
    "\"\"\"\n",
    "2\n",
    "5\n",
    "7\n",
    "17\n",
    "7\n",
    "\"\"\"\n",
    "\n",
    "STEP = map(int, input())\n",
    "for _ in range(5):\n",
    "    A, B = map(int, input().split())\n",
    "    print(A+B)\n"
   ]
  },
  {
   "cell_type": "code",
   "execution_count": 8,
   "metadata": {},
   "outputs": [
    {
     "name": "stdout",
     "output_type": "stream",
     "text": [
      "6\n"
     ]
    }
   ],
   "source": [
    "### 3단계 \n",
    "### 문제번호 8393\n",
    "### 제목: 합\n",
    "### 문제: n이 주어졌을 때, 1부터 n까지 합을 구하는 프로그램을 작성하시오.\n",
    "### 입력: 첫째 줄에 n (1 ≤ n ≤ 10,000)이 주어진다.\n",
    "### 예제 입력 : \n",
    "\"\"\"\n",
    "3\n",
    "\"\"\"\n",
    "### 예제 출력 : \n",
    "\"\"\"\n",
    "6\n",
    "\"\"\"\n",
    "# a = [i for i in range(1, 4)]\n",
    "# print(a)\n",
    "# print(sum(a))\n",
    "print(sum([i for i in range(1, int(input())+1)]))\n"
   ]
  },
  {
   "cell_type": "code",
   "execution_count": null,
   "metadata": {},
   "outputs": [],
   "source": [
    "### 3단계 \n",
    "### 문제번호 8393\n",
    "### 제목: 합\n",
    "### 문제: n이 주어졌을 때, 1부터 n까지 합을 구하는 프로그램을 작성하시오.\n",
    "### 입력: 첫째 줄에 n (1 ≤ n ≤ 10,000)이 주어진다.\n",
    "### 예제 입력 : \n",
    "\"\"\"\n",
    "3\n",
    "\"\"\"\n",
    "### 예제 출력 : \n",
    "\"\"\"\n",
    "6\n",
    "\"\"\"\n",
    "# a = [i for i in range(1, 4)]\n",
    "# print(a)\n",
    "# print(sum(a))\n",
    "print(sum([i for i in range(1, int(input())+1)]))\n"
   ]
  }
 ],
 "metadata": {
  "interpreter": {
   "hash": "50e3bdbed45582d67bcc82c4f7ad9f8dd990d17581c1d8cc14167b444936b30e"
  },
  "kernelspec": {
   "display_name": "Python 3.9.6 64-bit ('3.9.6': pyenv)",
   "name": "python3"
  },
  "language_info": {
   "codemirror_mode": {
    "name": "ipython",
    "version": 3
   },
   "file_extension": ".py",
   "mimetype": "text/x-python",
   "name": "python",
   "nbconvert_exporter": "python",
   "pygments_lexer": "ipython3",
   "version": "3.9.6"
  },
  "orig_nbformat": 4
 },
 "nbformat": 4,
 "nbformat_minor": 2
}
