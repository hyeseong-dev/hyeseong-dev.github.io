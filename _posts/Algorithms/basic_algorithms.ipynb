{
 "cells": [
  {
   "cell_type": "code",
   "execution_count": 6,
   "source": [
    "print('*개를 출력합니다.')\r\n",
    "\r\n",
    "n = int(input('몇 개를 출력할까요?'))\r\n",
    "w = int(input('몇 개마다 줄바꿈할까요?'))\r\n",
    "\r\n",
    "for i in range(n):\r\n",
    "    print('*', end='')\r\n",
    "    if i % w == w - 1:\r\n",
    "        print()\r\n",
    "\r\n",
    "if n % w:\r\n",
    "    print()"
   ],
   "outputs": [
    {
     "output_type": "stream",
     "name": "stdout",
     "text": [
      "*개를 출력합니다.\n",
      "***\n",
      "***\n",
      "***\n",
      "*\n"
     ]
    }
   ],
   "metadata": {}
  },
  {
   "cell_type": "code",
   "execution_count": 9,
   "source": [
    "def myFunc(parameter):\r\n",
    "    parameter.get('make') = 'Toyota'\r\n",
    "\r\n",
    "mycar = {'make':'Honda', \"model\":\"Accord\", \"year\":1998}\r\n",
    "a = mycar.get('make')\r\n",
    "\r\n",
    "myFunc(mycar)\r\n",
    "y = mycar.get('make')\r\n",
    "print(y)\r\n"
   ],
   "outputs": [
    {
     "output_type": "error",
     "ename": "SyntaxError",
     "evalue": "cannot assign to function call (40326574.py, line 2)",
     "traceback": [
      "\u001b[0;36m  File \u001b[0;32m\"/tmp/ipykernel_777/40326574.py\"\u001b[0;36m, line \u001b[0;32m2\u001b[0m\n\u001b[0;31m    parameter.get('make') = 'Toyota'\u001b[0m\n\u001b[0m    ^\u001b[0m\n\u001b[0;31mSyntaxError\u001b[0m\u001b[0;31m:\u001b[0m cannot assign to function call\n"
     ]
    }
   ],
   "metadata": {}
  },
  {
   "cell_type": "code",
   "execution_count": 13,
   "source": [
    "mycar = {'make':'Honda', \"model\":\"Accord\", \"year\":1998}\r\n",
    "a = mycar.get('make')\r\n",
    "def func(a):\r\n",
    "    a.update({'make':'Toyota'})\r\n",
    "\r\n",
    "func(mycar)\r\n",
    "mycar\r\n"
   ],
   "outputs": [
    {
     "output_type": "error",
     "ename": "SyntaxError",
     "evalue": "cannot assign to function call (3653259571.py, line 4)",
     "traceback": [
      "\u001b[0;36m  File \u001b[0;32m\"/tmp/ipykernel_777/3653259571.py\"\u001b[0;36m, line \u001b[0;32m4\u001b[0m\n\u001b[0;31m    a.get('make') = 'Toyota'\u001b[0m\n\u001b[0m    ^\u001b[0m\n\u001b[0;31mSyntaxError\u001b[0m\u001b[0;31m:\u001b[0m cannot assign to function call\n"
     ]
    }
   ],
   "metadata": {}
  },
  {
   "cell_type": "code",
   "execution_count": null,
   "source": [
    "print('hello world')"
   ],
   "outputs": [],
   "metadata": {}
  },
  {
   "cell_type": "code",
   "execution_count": null,
   "source": [],
   "outputs": [],
   "metadata": {}
  }
 ],
 "metadata": {
  "orig_nbformat": 4,
  "language_info": {
   "name": "python",
   "version": "3.9.6",
   "mimetype": "text/x-python",
   "codemirror_mode": {
    "name": "ipython",
    "version": 3
   },
   "pygments_lexer": "ipython3",
   "nbconvert_exporter": "python",
   "file_extension": ".py"
  },
  "kernelspec": {
   "name": "python3",
   "display_name": "Python 3.9.6 64-bit ('3.9.6': pyenv)"
  },
  "interpreter": {
   "hash": "220ed8befb2825b55147985808c89de26df8d0b5f856e63660c01d3bfac7bca8"
  }
 },
 "nbformat": 4,
 "nbformat_minor": 2
}