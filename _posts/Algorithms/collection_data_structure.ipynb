{
 "cells": [
  {
   "cell_type": "markdown",
   "source": [
    "# Set"
   ],
   "metadata": {}
  },
  {
   "cell_type": "markdown",
   "source": [
    "**Collection** 자료구조는 **Sequence** 자료구조와 달리, 데이터를 서로 연관시키지 않고 모아 두는 컨테이너다. 컬렉션 자료구조는 시퀀스 자료구조에서 봤던 속성 중 세가지 속성을 지닌다. \n",
    "\n",
    "- 멤버십 연산자 : in\n",
    "- 크기 함수 : len(seq)\n",
    "- 반복성: 반복문의 데이터를 순회한다\n",
    "\n",
    "파이썬의 내장 컬렉션 데이터 타입에는 **셋**과 **딕셔너리가 있다. 이 장의 마지막 절에서는 **collections** 모듈이 제공하는 다른 유용한 컬렉션 데이터 타입들도 살펴본다. \n"
   ],
   "metadata": {}
  },
  {
   "cell_type": "markdown",
   "source": [
    "파이썬의 **셋(집합)**은 \n",
    "- 반복가능\n",
    "- 가변적\n",
    "- 중복요소(X)\n",
    "- 인덱스 연산 (X)  \n",
    "셋은 멤버십 테스트 및 중복 항목 제거에 사용된다. \n",
    "\n",
    "- 셋의 삽입 시간복잡도는 O(1)\n",
    "- 합집합의 시간복잡도는O(m+n)\n",
    "\n",
    "교집합의 경우, 두 셋 중에서 더 작은 셋에 대해서만 계산하면 되므로, **시간복잡도는 O(n)**이다. "
   ],
   "metadata": {}
  },
  {
   "cell_type": "markdown",
   "source": [
    "## set method  "
   ],
   "metadata": {}
  },
  {
   "cell_type": "markdown",
   "source": [
    "## add()  \n",
    "A.add(x)는 셋 A에 x가 없는 경우 x를 추가한다. "
   ],
   "metadata": {}
  },
  {
   "cell_type": "code",
   "execution_count": 3,
   "source": [
    "people = {'버피', '에인절', '자일스'}\n",
    "people.add('윌로')\n",
    "people"
   ],
   "outputs": [
    {
     "output_type": "execute_result",
     "data": {
      "text/plain": [
       "{'버피', '에인절', '윌로', '자일스'}"
      ]
     },
     "metadata": {},
     "execution_count": 3
    }
   ],
   "metadata": {}
  },
  {
   "cell_type": "markdown",
   "source": [
    "## update()와 |= 연산자\n",
    "A.update(B) 혹은 A |= B는 B->A에 추가한다(합집합)"
   ],
   "metadata": {}
  },
  {
   "cell_type": "code",
   "execution_count": 7,
   "source": [
    "people = {'버피','에인절','자일스'}\n",
    "people.update({'로미오','줄리엣','에인절'})\n",
    "print(people)\n",
    "people |= {'리키', '유진'}\n",
    "print(people)"
   ],
   "outputs": [
    {
     "output_type": "stream",
     "name": "stdout",
     "text": [
      "{'로미오', '자일스', '에인절', '버피', '줄리엣'}\n",
      "{'리키', '유진', '로미오', '자일스', '에인절', '버피', '줄리엣'}\n"
     ]
    }
   ],
   "metadata": {}
  },
  {
   "cell_type": "markdown",
   "source": [
    "## union()과 | 연산자 \n",
    "A.union(B)와 A | B는 앞에서 본 update() 메서드와 같지만, 연산 결과를 복사본으로 반환한다. \n"
   ],
   "metadata": {}
  },
  {
   "cell_type": "code",
   "execution_count": 10,
   "source": [
    "people = {'버피','에인절','자일스'}\n",
    "print(people.union({'로미오','줄리엣','에인절'}))\n",
    "people | {'리키', '유진'}"
   ],
   "outputs": [
    {
     "output_type": "stream",
     "name": "stdout",
     "text": [
      "{'로미오', '자일스', '에인절', '버피', '줄리엣'}\n"
     ]
    },
    {
     "output_type": "execute_result",
     "data": {
      "text/plain": [
       "{'리키', '버피', '에인절', '유진', '자일스'}"
      ]
     },
     "metadata": {},
     "execution_count": 10
    }
   ],
   "metadata": {}
  },
  {
   "cell_type": "markdown",
   "source": [
    "## intersection() 과 & 연산자  \n",
    "A.intersection(B)와 A & B의 교집합의 복사본을 반환한다. \n"
   ],
   "metadata": {}
  },
  {
   "cell_type": "code",
   "execution_count": 12,
   "source": [
    "people = {'버피','에인절','자일스', '이안'}\n",
    "vampires = {'에인절', '자일스', '윌로'}\n",
    "print(people.intersection(vampires))\n",
    "print(people & vampires)"
   ],
   "outputs": [
    {
     "output_type": "stream",
     "name": "stdout",
     "text": [
      "{'자일스', '에인절'}\n",
      "{'자일스', '에인절'}\n"
     ]
    }
   ],
   "metadata": {}
  },
  {
   "cell_type": "markdown",
   "source": [
    "## difference()와 - 연산자  \n",
    "A.difference(B)와 A - B는 A와 B의 차집합의 복사본을 반환한다."
   ],
   "metadata": {}
  },
  {
   "cell_type": "code",
   "execution_count": 13,
   "source": [
    "people = {'버피','에인절','자일스', '아영'}\n",
    "vampires = {'스파이크', '에인절', '상민'}\n",
    "print(people.difference(vampires))\n",
    "print(people - vampires)"
   ],
   "outputs": [
    {
     "output_type": "stream",
     "name": "stdout",
     "text": [
      "{'버피', '아영', '자일스'}\n",
      "{'버피', '아영', '자일스'}\n"
     ]
    }
   ],
   "metadata": {}
  },
  {
   "cell_type": "markdown",
   "source": [
    "# clear()\n",
    "A.clear()는 A의 모든 항목을 제거한다. "
   ],
   "metadata": {}
  },
  {
   "cell_type": "code",
   "execution_count": 14,
   "source": [
    "people = {'버피', '자일스', '에인절'}\n",
    "people.clear()\n",
    "people"
   ],
   "outputs": [
    {
     "output_type": "execute_result",
     "data": {
      "text/plain": [
       "set()"
      ]
     },
     "metadata": {},
     "execution_count": 14
    }
   ],
   "metadata": {}
  },
  {
   "cell_type": "markdown",
   "source": [
    "## discard(), remove(), pip()\n",
    "A.discard(x)는 A의 항목 X를 제거하며 **반환값은 없다.** \n",
    "**A.remove()는 A.discard()와 기능은 같지**만 항목 x가 없을 경우 **KeyError 예외를 발생**시킨다. \n",
    "\n",
    "**A.pop()는 A에서 한 항목을 무작위로 제거하고 그 항목을 반환**한다. \n",
    "**셋이 비어있으면 KeyError 예외를 발생**시킨다. \n",
    "\n",
    "- remove() == discard() \n",
    "  - remove(x)는 셋에 x값이 없을 경우 **KeyError** \n",
    "\n",
    "- pop() 무작위로 값을 제거\n",
    " - **empty set인경우 KeyError**\n",
    " "
   ],
   "metadata": {}
  },
  {
   "cell_type": "code",
   "execution_count": 95,
   "source": [
    "countries = {'미국','가나', '프랑스', '스페인', '영국'}\n",
    "print(countries.discard('한국'))\n",
    "# print(countries.remove('일본')) KeyError 발생\n",
    "print(countries.pop())           # 무작위 삭제\n",
    "print(countries)\n",
    "print(countries.discard('스페인'))\n",
    "print(countries.remove('영국'))\n",
    "print(countries.pop())\n",
    "print(countries.pop())\n",
    "#print(countries.pop())           # empty set인경우 KeyError 발생\n"
   ],
   "outputs": [
    {
     "output_type": "stream",
     "name": "stdout",
     "text": [
      "None\n",
      "가나\n",
      "{'영국', '스페인', '미국', '프랑스'}\n",
      "None\n",
      "None\n",
      "미국\n",
      "프랑스\n"
     ]
    }
   ],
   "metadata": {}
  },
  {
   "cell_type": "markdown",
   "source": [
    "## 셋과 리스트\n",
    "\n",
    "리스트 타입은 셋 타입으로 변환 할 수 있다. 다음 예제를 살펴보자 "
   ],
   "metadata": {}
  },
  {
   "cell_type": "markdown",
   "source": [
    "# Dictionary\n"
   ],
   "metadata": {}
  },
  {
   "cell_type": "markdown",
   "source": [
    "difference"
   ],
   "metadata": {}
  },
  {
   "cell_type": "markdown",
   "source": [
    "# Python Collection Data Type"
   ],
   "metadata": {}
  },
  {
   "cell_type": "markdown",
   "source": [
    "\n"
   ],
   "metadata": {}
  },
  {
   "cell_type": "markdown",
   "source": [
    "# Exercise"
   ],
   "metadata": {}
  },
  {
   "cell_type": "markdown",
   "source": [],
   "metadata": {}
  },
  {
   "cell_type": "markdown",
   "source": [],
   "metadata": {}
  },
  {
   "cell_type": "markdown",
   "source": [],
   "metadata": {}
  },
  {
   "cell_type": "markdown",
   "source": [],
   "metadata": {}
  },
  {
   "cell_type": "markdown",
   "source": [],
   "metadata": {}
  },
  {
   "cell_type": "markdown",
   "source": [],
   "metadata": {}
  }
 ],
 "metadata": {
  "orig_nbformat": 4,
  "language_info": {
   "name": "python",
   "version": "3.9.6",
   "mimetype": "text/x-python",
   "codemirror_mode": {
    "name": "ipython",
    "version": 3
   },
   "pygments_lexer": "ipython3",
   "nbconvert_exporter": "python",
   "file_extension": ".py"
  },
  "kernelspec": {
   "name": "python3",
   "display_name": "Python 3.9.6 64-bit ('3.9.6': pyenv)"
  },
  "interpreter": {
   "hash": "220ed8befb2825b55147985808c89de26df8d0b5f856e63660c01d3bfac7bca8"
  }
 },
 "nbformat": 4,
 "nbformat_minor": 2
}