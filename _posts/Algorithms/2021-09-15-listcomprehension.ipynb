{
 "cells": [
  {
   "cell_type": "markdown",
   "source": [
    "# 2.4.3 리스트 컴프리헨션  \n",
    "리스트 컴프리헨션은 반복문의 표현식(조건 포함 가능)\n",
    "\n",
    "__- [ 항목 for 항목 in 반복 가능한 객체]__  \n",
    "__- [ 표현식 for 항목 in 반복 가능한 객체]__  \n",
    "__- [ 표현식 for 항목 in 반복 가능한 객체 if 조건문]__  \n",
    "\n"
   ],
   "metadata": {}
  },
  {
   "cell_type": "code",
   "execution_count": 5,
   "source": [
    "a = [y for y in range(1900, 1940) if y%4 ==0 ]\n",
    "print(a)"
   ],
   "outputs": [
    {
     "output_type": "stream",
     "name": "stdout",
     "text": [
      "[1900, 1904, 1908, 1912, 1916, 1920, 1924, 1928, 1932, 1936]\n"
     ]
    }
   ],
   "metadata": {}
  },
  {
   "cell_type": "code",
   "execution_count": 6,
   "source": [
    "b = [2**i for i in range(13)]\n",
    "print(b)\n"
   ],
   "outputs": [
    {
     "output_type": "stream",
     "name": "stdout",
     "text": [
      "[1, 2, 4, 8, 16, 32, 64, 128, 256, 512, 1024, 2048, 4096]\n"
     ]
    }
   ],
   "metadata": {}
  },
  {
   "cell_type": "code",
   "execution_count": 7,
   "source": [
    "c = [x for x in a if x%2==0]\n",
    "c"
   ],
   "outputs": [
    {
     "output_type": "execute_result",
     "data": {
      "text/plain": [
       "[1900, 1904, 1908, 1912, 1916, 1920, 1924, 1928, 1932, 1936]"
      ]
     },
     "metadata": {},
     "execution_count": 7
    }
   ],
   "metadata": {}
  },
  {
   "cell_type": "code",
   "execution_count": 8,
   "source": [
    "d = [str(round(335/113.0, i)) for i in range(1,6)]\n",
    "d"
   ],
   "outputs": [
    {
     "output_type": "execute_result",
     "data": {
      "text/plain": [
       "['3.0', '2.96', '2.965', '2.9646', '2.9646']"
      ]
     },
     "metadata": {},
     "execution_count": 8
    }
   ],
   "metadata": {}
  },
  {
   "cell_type": "code",
   "execution_count": 9,
   "source": [
    "words = 'Buffy is awesome and a vampire slayer'.split()\n",
    "e = [[w.upper(), w.lower(), len(w)]for w in words]\n",
    "e"
   ],
   "outputs": [
    {
     "output_type": "execute_result",
     "data": {
      "text/plain": [
       "[['BUFFY', 'buffy', 5],\n",
       " ['IS', 'is', 2],\n",
       " ['AWESOME', 'awesome', 7],\n",
       " ['AND', 'and', 3],\n",
       " ['A', 'a', 1],\n",
       " ['VAMPIRE', 'vampire', 7],\n",
       " ['SLAYER', 'slayer', 6]]"
      ]
     },
     "metadata": {},
     "execution_count": 9
    }
   ],
   "metadata": {}
  },
  {
   "cell_type": "code",
   "execution_count": 10,
   "source": [
    "for i in e:\n",
    "    print(i)\n",
    "    "
   ],
   "outputs": [
    {
     "output_type": "stream",
     "name": "stdout",
     "text": [
      "['BUFFY', 'buffy', 5]\n",
      "['IS', 'is', 2]\n",
      "['AWESOME', 'awesome', 7]\n",
      "['AND', 'and', 3]\n",
      "['A', 'a', 1]\n",
      "['VAMPIRE', 'vampire', 7]\n",
      "['SLAYER', 'slayer', 6]\n"
     ]
    }
   ],
   "metadata": {}
  },
  {
   "cell_type": "markdown",
   "source": [
    "# 리스트 컴프리헨션의 좋은 예 VS 나쁜 예\n",
    "\n",
    "##  좋은 예\n"
   ],
   "metadata": {}
  },
  {
   "cell_type": "code",
   "execution_count": 32,
   "source": [
    "result = []\n",
    "for x in range(10):\n",
    "    for y in range(5):\n",
    "        if x * y > 10:\n",
    "            result.append((x,y))\n",
    "\n",
    "for x in range(5):\n",
    "    for y in range(5):\n",
    "        if x != y:\n",
    "            for z in range(5):\n",
    "                if y != z:\n",
    "                    yield(x, y, z)\n",
    "\n",
    "return ((x, complicated_transform(x))\n",
    "    for x in long_generator_function(parameter)\n",
    "    if x is not None)\n",
    "\n",
    "squares = [x * x for x in range(10)]\n",
    "\n",
    "eat(jelly_bean for jelly_bean in jelly_beans if jelly_bean.color == 'black')\n",
    "\n",
    "result = [(x,y) for x in range(10) for y i n range(5) if x * y > 10]\n",
    "\n",
    "return ((x, y, z))\n",
    "        for x in xrange(5)\n",
    "        for y in xrange(5)\n",
    "        if x != yfor z in xrange(5)\n",
    "        if y != z)"
   ],
   "outputs": [
    {
     "output_type": "error",
     "ename": "SyntaxError",
     "evalue": "invalid syntax (2161323672.py, line 22)",
     "traceback": [
      "\u001b[0;36m  File \u001b[0;32m\"/tmp/ipykernel_330/2161323672.py\"\u001b[0;36m, line \u001b[0;32m22\u001b[0m\n\u001b[0;31m    result = [(x,y) for x in range(10) for y i n range(5) if x * y > 10]\u001b[0m\n\u001b[0m                                             ^\u001b[0m\n\u001b[0;31mSyntaxError\u001b[0m\u001b[0;31m:\u001b[0m invalid syntax\n"
     ]
    }
   ],
   "metadata": {}
  },
  {
   "cell_type": "markdown",
   "source": [
    "# 2.4.4 리스트 메서드 성능 측정\n",
    "\n",
    "리스트의 메서드를 벤치마킹 테스트하여 성능을 측정해보자. 아래 테스트에서는 timeit 모듈의 Timer 객체를 생성해 사용. \n",
    "Timer 객체의 첫 번째 매개변수는 우리가 측정하고자 하는 코드이며, 두 번째 매개변수는 테스트를 위한 설정 문이다. timeit 모듈은 명령문을 정해진 횟수만큼 실행하는 데 걸리는 시간을 측정한다.(기본값은 number = 1000000이다). 테스트가 완료되면, 문장이 수행된 시간(밀리초)을 부동소수점 값으로 반환한다. \n"
   ],
   "metadata": {}
  },
  {
   "cell_type": "code",
   "execution_count": 53,
   "source": [
    "# 2_runtime_lists_with_timeit_module.py\n",
    "# timeit() 메서드로 성능을 측정할 때는 임시로 가비지 컬렉션 기능이 중진된다. 가비지 컬렉션 수행 시간도 성능 측정에 같이 포함하고 싶다면, 다음과 같이 gc.enable()를 추가해야 한다. \n",
    "\n",
    "\n",
    "def test1():\n",
    "    l = []\n",
    "    for i in range(1000):\n",
    "        l = l + [i]\n",
    "\n",
    "def test2():\n",
    "    l = list()\n",
    "    for i in range(1000):\n",
    "        l.append(i)\n",
    "\n",
    "def test3():\n",
    "    l = list(i for i in range(1000))\n",
    "\n",
    "def test4():\n",
    "    l = list(range(1000))\n",
    "\n",
    "\n",
    "if __name__ == '__main__':\n",
    "    import timeit\n",
    "    t1 = timeit.Timer(\"test1()\", \"from __main__ import test1\")\n",
    "    print('concat', t1.timeit(number=1000), 'milliseconds')\n",
    "    t2 = timeit.Timer(\"test2()\", \"from __main__ import test2\")\n",
    "    print('append', t2.timeit(number=1000), 'milliseconds')\n",
    "    t3 = timeit.Timer(\"test3()\", \"from __main__ import test3\")\n",
    "    print('comprehension', t3.timeit(number=1000), 'milliseconds')\n",
    "    t4 = timeit.Timer(\"test4()\", \"from __main__ import test4\")\n",
    "    print('list range', t4.timeit(number=1000), 'milliseconds')\n",
    "\n",
    "\n"
   ],
   "outputs": [
    {
     "output_type": "stream",
     "name": "stdout",
     "text": [
      "concat 1.8474249999999302 milliseconds\n",
      "append 0.05421500000011292 milliseconds\n",
      "comprehension 0.0399293000009493 milliseconds\n",
      "list range 0.016438300001027528 milliseconds\n"
     ]
    }
   ],
   "metadata": {}
  },
  {
   "cell_type": "code",
   "execution_count": 13,
   "source": [
    "result"
   ],
   "outputs": [
    {
     "output_type": "execute_result",
     "data": {
      "text/plain": [
       "[(3, 4),\n",
       " (4, 3),\n",
       " (4, 4),\n",
       " (5, 3),\n",
       " (5, 4),\n",
       " (6, 2),\n",
       " (6, 3),\n",
       " (6, 4),\n",
       " (7, 2),\n",
       " (7, 3),\n",
       " (7, 4),\n",
       " (8, 2),\n",
       " (8, 3),\n",
       " (8, 4),\n",
       " (9, 2),\n",
       " (9, 3),\n",
       " (9, 4)]"
      ]
     },
     "metadata": {},
     "execution_count": 13
    }
   ],
   "metadata": {}
  },
  {
   "cell_type": "markdown",
   "source": [
    "#"
   ],
   "metadata": {}
  },
  {
   "cell_type": "code",
   "execution_count": 26,
   "source": [
    "# 문자열 단어 단위로 반전\n",
    "def reverser(string1, p1=0, p2=None):\n",
    "    length= len(string1)\n",
    "    if length < 2:        # 2개문자 미만일 경우 예) '안', '뭐', ' ', '1'\n",
    "        return string1\n",
    "                          # p2의 경우에는 3번째 매개변수가 존재할 경우, 전체문장에서 각 공백간 구분된 단어의 마지막 인덱스를 의미 length는 문장의 길이를 의미\n",
    "    p2 = p2 or length-1   # 두 번째 포인터가 존재하거나 또는 string1이 2단어 이상일 때  / 예) \"재미있다. 정말 알고리즘 파이썬\"의 경우 전체길이가 17이고 이를 -1로 빼서 p2는 16이됨\n",
    "    while p1 < p2:        # p1 포인터가 항상 p2보다 작은 경우 돌아감 , p2는 16 , p1은 0\n",
    "        string1[p1], string1[p2] = string1[p2], string1[p1] # 처음 string1[p2]의 == '.' , string1[p1] == '파' \n",
    "        p1 += 1                                             # p1 = 2 변경\n",
    "        p2 -= 1                                             # p2 = 15 변경\n",
    "    \n",
    "def reversing_words_sentence_logic(string1): # 매개변수['파','이','썬',' ' ,'정','말', '재','미','있','다','.']\n",
    "    # 먼저, 문장 전체를 반전함.\n",
    "    reverser(string1)                       \n",
    "    print(string1)  # ['.', '다', '있', '미', '재', ' ', '말', '정', ' ', '즘', '리', '고', '알', ' ', '썬', '이', '파'] \n",
    "    p = 0\n",
    "    start = 0\n",
    "    while p < len(string1):\n",
    "        if string1[p] == u\"\\u0020\":\n",
    "            # 단어를 다시 반전한다(단어를 원위치로 돌려놓는다.)\n",
    "            reverser(string1, start, p-1) # start는 ['.', '다', '있', '미', '재'] 리스트에서 '.'의 인덱스 0에 해당하고 p-1은 '재'에 해당하는 '4'에 해당\n",
    "            print(string1)\n",
    "            start = p+1\n",
    "        p += 1\n",
    "    # 마지막 단어를 반전한다(단어를 원위치로 돌려놓는다.)\n",
    "    reverser(string1, start, p-1)\n",
    "    return ''.join(string1)\n",
    "\n",
    "if __name__ == '__main__':\n",
    "    str1 = '파이썬 알고리즘 정말 재미있다.'\n",
    "    str2 = reversing_words_sentence_logic(list(str1))\n",
    "    print(str2)"
   ],
   "outputs": [
    {
     "output_type": "stream",
     "name": "stdout",
     "text": [
      "['.', '다', '있', '미', '재', ' ', '말', '정', ' ', '즘', '리', '고', '알', ' ', '썬', '이', '파']\n",
      "['재', '미', '있', '다', '.', ' ', '말', '정', ' ', '즘', '리', '고', '알', ' ', '썬', '이', '파']\n",
      "['재', '미', '있', '다', '.', ' ', '정', '말', ' ', '즘', '리', '고', '알', ' ', '썬', '이', '파']\n",
      "['재', '미', '있', '다', '.', ' ', '정', '말', ' ', '알', '고', '리', '즘', ' ', '썬', '이', '파']\n",
      "재미있다. 정말 알고리즘 파이썬\n"
     ]
    }
   ],
   "metadata": {}
  },
  {
   "cell_type": "markdown",
   "source": [
    "# 하나의 반복문으로 반전\n",
    "\n",
    "\n"
   ],
   "metadata": {}
  },
  {
   "cell_type": "code",
   "execution_count": 30,
   "source": [
    "def reverse_words_brute(string):\n",
    "    word, sentence = list(), list()\n",
    "    for character in string:\n",
    "        if character != ' ':\n",
    "            word.append(character)\n",
    "        else:\n",
    "            # 조건문에서 empty list is False, 여러 공백이 있는 경우, 조건문을 건너뜀\n",
    "            if word:\n",
    "                sentence.append(''.join(word))\n",
    "            word = list() # word 리스트를 초기화 함\n",
    "    \n",
    "    # 마지막 단어가 있다면, 문장에 추가 \n",
    "    if word != '':\n",
    "        sentence.append(''.join(word)) # word 변수의 각각 파편화된 문자를 단어로 변경하여 sentence 리스트 뒤에 붙여버림\n",
    "    sentence.reverse()                 # 최종적으로 단어들이 담긴 리스트['파이썬', '알고리즘', '정말', '재미있다.']를 reverse메서드를 이용하여 원본값을 변경시킴\n",
    "    return ' '.join(sentence)\n",
    "\n",
    "if __name__ == '__main__':\n",
    "    str1 = '파이썬 알고리즘 정말 재미있다.'\n",
    "    str2 = reverse_words_brute(list(str1))\n",
    "    print(str2)\n",
    "\n"
   ],
   "outputs": [
    {
     "output_type": "stream",
     "name": "stdout",
     "text": [
      "재미있다. 정말 알고리즘 파이썬\n"
     ]
    }
   ],
   "metadata": {}
  },
  {
   "cell_type": "markdown",
   "source": [
    "# 문자열을 공백으로 구분하여 리스트를 생성한 다음, 슬라이스를 사용\n"
   ],
   "metadata": {}
  },
  {
   "cell_type": "code",
   "execution_count": 54,
   "source": [
    "def reversing_words_slice(word):\n",
    "    new_word = []\n",
    "    words = word.split(\" \")\n",
    "    for word in words[::-1]:\n",
    "        new_word.append(word)\n",
    "    return ' '.join(new_word)\n",
    "\n",
    "if __name__ == '__main__':\n",
    "    str1 = '파이썬 알고리즘 정말 재미있다'\n",
    "    str2 = reversing_words_slice(str1)\n",
    "    print(str2)"
   ],
   "outputs": [
    {
     "output_type": "stream",
     "name": "stdout",
     "text": [
      "재미있다 정말 알고리즘 파이썬\n"
     ]
    }
   ],
   "metadata": {}
  },
  {
   "cell_type": "markdown",
   "source": [
    "아예 반복문 없이 리스트와 문자열 메서드만으로 해결할 수도 있다. "
   ],
   "metadata": {}
  },
  {
   "cell_type": "code",
   "execution_count": 58,
   "source": [
    "# 7_reversing_words.py\n",
    "\n",
    "def reversing_words(str1):\n",
    "    words = str1.split(' ')\n",
    "    rev_set = ' '.join(reversed(words))\n",
    "    return rev_set\n",
    "\n",
    "def reversing_words2(str1):\n",
    "    words = str1.split(' ')\n",
    "    words.reverse()\n",
    "    return ' '.join(words)\n",
    "\n",
    "if __name__ == '__main__':\n",
    "    str1 = '파이썬 알고리즘 정말 재미있다'\n",
    "    str2 = reversing_words(str1)\n",
    "    str3 = reversing_words2(str1)\n",
    "    print(str2)\n",
    "    print(str3)\n"
   ],
   "outputs": [
    {
     "output_type": "stream",
     "name": "stdout",
     "text": [
      "재미있다 정말 알고리즘 파이썬\n",
      "재미있다 정말 알고리즘 파이썬\n"
     ]
    }
   ],
   "metadata": {}
  },
  {
   "cell_type": "markdown",
   "source": [
    "위 문제를 조금 더 확장하면 ! ? ; - . 등의 기호를 구분자로 사용하는 코드도 만들 수 있을 것이다."
   ],
   "metadata": {}
  },
  {
   "cell_type": "markdown",
   "source": [
    "# 2.6.3. 단순 문자열 압축\n",
    "\n",
    "다음은 문자열 aabcccccaaa를 a2b1c5a3 같은 형식으로 압축하는 예제다. \n"
   ],
   "metadata": {}
  },
  {
   "cell_type": "code",
   "execution_count": 60,
   "source": [
    "# 8_simple_str_compression.py\n",
    "\n",
    "def str_compression(s):\n",
    "    count, last = 1, ''\n",
    "    list_aux = list()\n",
    "    for i, c in enumerate(s):\n",
    "        if last == c:\n",
    "            count += 1\n",
    "        else:\n",
    "            if i != 0:\n",
    "                list_aux.append(str(count))\n",
    "            list_aux.append(c)\n",
    "            count = 1\n",
    "            last = c\n",
    "    list_aux.append(str(count))\n",
    "    return ''.join(list_aux)\n",
    "\n",
    "if __name__ == '__main__':\n",
    "    result = str_compression('aabcccccaaa')\n",
    "    print(result)"
   ],
   "outputs": [
    {
     "output_type": "stream",
     "name": "stdout",
     "text": [
      "a2b1c5a3\n"
     ]
    }
   ],
   "metadata": {}
  },
  {
   "cell_type": "markdown",
   "source": [
    "# 2.6.5 회문\n",
    "\n",
    "회문이란 앞에서부터 읽으나 뒤에서부터 읽으나 동일한 단어나 구를 뜻한다. 어떤 문자열이 회문인지 확인하는 코드를 작성해보자. 공백은 무시하며, 세가지 버전으로 구현했음\n"
   ],
   "metadata": {}
  },
  {
   "cell_type": "code",
   "execution_count": 66,
   "source": [
    "# 11_palindrome.py\n",
    "\n",
    "str1 = '다시 합창합시다'\n",
    "str2 = ''\n",
    "str3 = 'hello'\n",
    "\n",
    "def is_palindrome(s):\n",
    "    l = s.split(' ')\n",
    "    s2 = ''.join(l)\n",
    "    return s2 == s2[::-1]\n",
    "\n",
    "def is_palindrome2(s):\n",
    "    l = len(s)\n",
    "    f, b = 0, l-1\n",
    "    while f < l //2:\n",
    "        while s[f] == ' ':\n",
    "            f+=1\n",
    "            while s[b] == ' ':\n",
    "                b -=1\n",
    "            if s[f] != s[b]:\n",
    "                return False\n",
    "            f+=1\n",
    "            b-=1\n",
    "        return True\n",
    "\n",
    "\n",
    "def is_palindrome3(s):\n",
    "    s = s.strip()  # 양쪽 공백 모두 제거\n",
    "    if len(s) < 2: # 한 글자인 경우 palindrome : True\n",
    "        return True\n",
    "    if s[0] == s[-1]:\n",
    "        return is_palindrome(s[1:-1])\n",
    "    else:\n",
    "        return False\n",
    "\n",
    "\n",
    "print(is_palindrome(str1))\n",
    "print(is_palindrome(str2))\n",
    "print(is_palindrome(str3))\n",
    "print()\n",
    "print(is_palindrome2(str1))\n",
    "print(is_palindrome2(str2))\n",
    "print(is_palindrome2(str3))\n",
    "print()\n",
    "print(is_palindrome3(str1))\n",
    "print(is_palindrome3(str2))\n",
    "print(is_palindrome3(str3))\n",
    "\n",
    "\n"
   ],
   "outputs": [
    {
     "output_type": "stream",
     "name": "stdout",
     "text": [
      "True\n",
      "True\n",
      "False\n",
      "\n",
      "True\n",
      "None\n",
      "True\n",
      "\n",
      "True\n",
      "True\n",
      "False\n"
     ]
    }
   ],
   "metadata": {}
  },
  {
   "cell_type": "code",
   "execution_count": 65,
   "source": [],
   "outputs": [
    {
     "output_type": "execute_result",
     "data": {
      "text/plain": [
       "4.0"
      ]
     },
     "metadata": {},
     "execution_count": 65
    }
   ],
   "metadata": {}
  },
  {
   "cell_type": "code",
   "execution_count": null,
   "source": [],
   "outputs": [],
   "metadata": {}
  }
 ],
 "metadata": {
  "orig_nbformat": 4,
  "language_info": {
   "name": "python",
   "version": "3.8.10",
   "mimetype": "text/x-python",
   "codemirror_mode": {
    "name": "ipython",
    "version": 3
   },
   "pygments_lexer": "ipython3",
   "nbconvert_exporter": "python",
   "file_extension": ".py"
  },
  "kernelspec": {
   "name": "python3",
   "display_name": "Python 3.8.10 64-bit"
  },
  "interpreter": {
   "hash": "31f2aee4e71d21fbe5cf8b01ff0e069b9275f58929596ceb00d14d90e3e16cd6"
  }
 },
 "nbformat": 4,
 "nbformat_minor": 2
}